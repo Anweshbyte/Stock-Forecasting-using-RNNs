{
  "nbformat": 4,
  "nbformat_minor": 0,
  "metadata": {
    "colab": {
      "provenance": [],
      "gpuType": "T4"
    },
    "kernelspec": {
      "name": "python3",
      "display_name": "Python 3"
    },
    "language_info": {
      "name": "python"
    },
    "accelerator": "GPU"
  },
  "cells": [
    {
      "cell_type": "code",
      "execution_count": null,
      "metadata": {
        "id": "3BhkuS3b-htI"
      },
      "outputs": [],
      "source": [
        "import yfinance as yf\n",
        "import numpy as np\n",
        "import pandas as pd\n",
        "import matplotlib.pyplot as plt\n",
        "from sklearn.preprocessing import MinMaxScaler\n",
        "from tensorflow.keras.models import Sequential\n",
        "from tensorflow.keras.layers import SimpleRNN, Dense\n",
        "from tensorflow.keras.layers import LSTM, Dense"
      ]
    },
    {
      "cell_type": "markdown",
      "source": [
        "Import Stock Data from yfinance. More about it in a few classes."
      ],
      "metadata": {
        "id": "eGZfoS3k_sth"
      }
    },
    {
      "cell_type": "code",
      "source": [
        "# Define the ticker symbol and time period\n",
        "ticker = 'TATAMOTORS.NS'\n",
        "start_date = '2010-01-01'\n",
        "end_date = '2022-12-31'\n",
        "\n",
        "# Download the data\n",
        "data = yf.download(ticker, start=start_date, end=end_date)\n"
      ],
      "metadata": {
        "colab": {
          "base_uri": "https://localhost:8080/"
        },
        "id": "X8Xc1zD_-tc4",
        "outputId": "a4cb29de-d2de-4bcc-e3f4-d48e85ed7c46"
      },
      "execution_count": null,
      "outputs": [
        {
          "output_type": "stream",
          "name": "stdout",
          "text": [
            "\r[*********************100%***********************]  1 of 1 completed\n"
          ]
        }
      ]
    },
    {
      "cell_type": "code",
      "source": [
        "# Select the 'Close' price column\n",
        "df = data[['Close']]\n",
        "\n",
        "# Normalize the data\n",
        "scaler = MinMaxScaler(feature_range=(0, 1))\n",
        "scaled_data = scaler.fit_transform(df.values)\n",
        "\n",
        "# Split the data into training and testing sets\n",
        "train_size = int(len(scaled_data) * 0.8)\n",
        "train_data = scaled_data[:train_size]\n",
        "test_data = scaled_data[train_size:]\n",
        "\n",
        "# Create sequences of historical data\n",
        "def create_sequences(data, seq_length):\n",
        "    X = []\n",
        "    y = []\n",
        "    for i in range(len(data) - seq_length):\n",
        "        X.append(data[i:i + seq_length])\n",
        "        y.append(data[i + seq_length])\n",
        "    return np.array(X), np.array(y)\n",
        "\n",
        "seq_length = 30  # Number of previous days to consider\n",
        "X_train, y_train = create_sequences(train_data, seq_length)\n",
        "X_test, y_test = create_sequences(test_data, seq_length)"
      ],
      "metadata": {
        "id": "_K7WpdDs-wMO"
      },
      "execution_count": null,
      "outputs": []
    },
    {
      "cell_type": "code",
      "source": [
        "print(X_train.shape)"
      ],
      "metadata": {
        "colab": {
          "base_uri": "https://localhost:8080/"
        },
        "id": "TQmq-CDLAQsQ",
        "outputId": "ab000a48-16bf-4a1c-bab2-70169a49a18d"
      },
      "execution_count": null,
      "outputs": [
        {
          "output_type": "stream",
          "name": "stdout",
          "text": [
            "(2537, 30, 1)\n"
          ]
        }
      ]
    },
    {
      "cell_type": "markdown",
      "source": [
        "##RNN"
      ],
      "metadata": {
        "id": "U5p4Ob4EA0Zb"
      }
    },
    {
      "cell_type": "code",
      "source": [
        "rnn_model = Sequential()\n",
        "rnn_model.add(SimpleRNN(50, activation='relu', input_shape=(seq_length, 1)))\n",
        "rnn_model.add(Dense(1))\n",
        "rnn_model.compile(optimizer='adam', loss='mean_squared_error')\n",
        "rnn_model.fit(X_train, y_train, epochs=50, batch_size=32)\n",
        "\n",
        "\n",
        "# rnn_model = Sequential()\n",
        "# rnn_model.add(Embedding(10000, 64, input_length=max_len))\n",
        "# rnn_model.add(SimpleRNN(64))\n",
        "# rnn_model.add(Dense(2, activation='sigmoid'))\n",
        "# rnn_model.summary()\n"
      ],
      "metadata": {
        "colab": {
          "base_uri": "https://localhost:8080/"
        },
        "id": "2JwAgicS-1-5",
        "outputId": "a751ee61-ac35-487d-a165-2214e9ef185f"
      },
      "execution_count": null,
      "outputs": [
        {
          "output_type": "stream",
          "name": "stdout",
          "text": [
            "Epoch 1/50\n",
            "80/80 [==============================] - 9s 29ms/step - loss: 0.0329\n",
            "Epoch 2/50\n",
            "80/80 [==============================] - 2s 22ms/step - loss: 5.4540e-04\n",
            "Epoch 3/50\n",
            "80/80 [==============================] - 1s 18ms/step - loss: 5.1136e-04\n",
            "Epoch 4/50\n",
            "80/80 [==============================] - 1s 19ms/step - loss: 4.8518e-04\n",
            "Epoch 5/50\n",
            "80/80 [==============================] - 2s 19ms/step - loss: 4.7236e-04\n",
            "Epoch 6/50\n",
            "80/80 [==============================] - 2s 19ms/step - loss: 4.3639e-04\n",
            "Epoch 7/50\n",
            "80/80 [==============================] - 1s 19ms/step - loss: 4.1617e-04\n",
            "Epoch 8/50\n",
            "80/80 [==============================] - 2s 22ms/step - loss: 4.1567e-04\n",
            "Epoch 9/50\n",
            "80/80 [==============================] - 2s 29ms/step - loss: 4.0027e-04\n",
            "Epoch 10/50\n",
            "80/80 [==============================] - 1s 18ms/step - loss: 3.6529e-04\n",
            "Epoch 11/50\n",
            "80/80 [==============================] - 2s 19ms/step - loss: 3.3255e-04\n",
            "Epoch 12/50\n",
            "80/80 [==============================] - 1s 19ms/step - loss: 3.1850e-04\n",
            "Epoch 13/50\n",
            "80/80 [==============================] - 1s 18ms/step - loss: 3.1118e-04\n",
            "Epoch 14/50\n",
            "80/80 [==============================] - 1s 18ms/step - loss: 2.7503e-04\n",
            "Epoch 15/50\n",
            "80/80 [==============================] - 1s 18ms/step - loss: 2.6885e-04\n",
            "Epoch 16/50\n",
            "80/80 [==============================] - 2s 24ms/step - loss: 2.8449e-04\n",
            "Epoch 17/50\n",
            "80/80 [==============================] - 2s 25ms/step - loss: 2.9914e-04\n",
            "Epoch 18/50\n",
            "80/80 [==============================] - 1s 18ms/step - loss: 2.7451e-04\n",
            "Epoch 19/50\n",
            "80/80 [==============================] - 1s 17ms/step - loss: 2.4948e-04\n",
            "Epoch 20/50\n",
            "80/80 [==============================] - 1s 18ms/step - loss: 2.5379e-04\n",
            "Epoch 21/50\n",
            "80/80 [==============================] - 1s 19ms/step - loss: 2.4390e-04\n",
            "Epoch 22/50\n",
            "80/80 [==============================] - 1s 18ms/step - loss: 2.2454e-04\n",
            "Epoch 23/50\n",
            "80/80 [==============================] - 1s 18ms/step - loss: 2.3140e-04\n",
            "Epoch 24/50\n",
            "80/80 [==============================] - 2s 28ms/step - loss: 2.3499e-04\n",
            "Epoch 25/50\n",
            "80/80 [==============================] - 2s 21ms/step - loss: 2.2617e-04\n",
            "Epoch 26/50\n",
            "80/80 [==============================] - 1s 18ms/step - loss: 2.2268e-04\n",
            "Epoch 27/50\n",
            "80/80 [==============================] - 2s 19ms/step - loss: 2.1757e-04\n",
            "Epoch 28/50\n",
            "80/80 [==============================] - 1s 18ms/step - loss: 2.0552e-04\n",
            "Epoch 29/50\n",
            "80/80 [==============================] - 1s 18ms/step - loss: 2.2396e-04\n",
            "Epoch 30/50\n",
            "80/80 [==============================] - 2s 19ms/step - loss: 2.1627e-04\n",
            "Epoch 31/50\n",
            "80/80 [==============================] - 2s 20ms/step - loss: 2.2483e-04\n",
            "Epoch 32/50\n",
            "80/80 [==============================] - 2s 30ms/step - loss: 2.2086e-04\n",
            "Epoch 33/50\n",
            "80/80 [==============================] - 1s 17ms/step - loss: 2.0947e-04\n",
            "Epoch 34/50\n",
            "80/80 [==============================] - 2s 25ms/step - loss: 2.2530e-04\n",
            "Epoch 35/50\n",
            "80/80 [==============================] - 2s 22ms/step - loss: 2.2336e-04\n",
            "Epoch 36/50\n",
            "80/80 [==============================] - 1s 18ms/step - loss: 2.2210e-04\n",
            "Epoch 37/50\n",
            "80/80 [==============================] - 1s 18ms/step - loss: 2.1328e-04\n",
            "Epoch 38/50\n",
            "80/80 [==============================] - 2s 19ms/step - loss: 2.0917e-04\n",
            "Epoch 39/50\n",
            "80/80 [==============================] - 3s 33ms/step - loss: 2.1694e-04\n",
            "Epoch 40/50\n",
            "80/80 [==============================] - 2s 19ms/step - loss: 2.0955e-04\n",
            "Epoch 41/50\n",
            "80/80 [==============================] - 1s 18ms/step - loss: 2.2220e-04\n",
            "Epoch 42/50\n",
            "80/80 [==============================] - 1s 18ms/step - loss: 2.2144e-04\n",
            "Epoch 43/50\n",
            "80/80 [==============================] - 2s 20ms/step - loss: 2.2140e-04\n",
            "Epoch 44/50\n",
            "80/80 [==============================] - 1s 19ms/step - loss: 2.1214e-04\n",
            "Epoch 45/50\n",
            "80/80 [==============================] - 1s 18ms/step - loss: 2.2443e-04\n",
            "Epoch 46/50\n",
            "80/80 [==============================] - 2s 25ms/step - loss: 2.2997e-04\n",
            "Epoch 47/50\n",
            "80/80 [==============================] - 2s 26ms/step - loss: 2.1473e-04\n",
            "Epoch 48/50\n",
            "80/80 [==============================] - 1s 19ms/step - loss: 2.1151e-04\n",
            "Epoch 49/50\n",
            "80/80 [==============================] - 2s 20ms/step - loss: 2.0222e-04\n",
            "Epoch 50/50\n",
            "80/80 [==============================] - 2s 19ms/step - loss: 2.0309e-04\n"
          ]
        },
        {
          "output_type": "execute_result",
          "data": {
            "text/plain": [
              "<keras.callbacks.History at 0x7fa7087b1cf0>"
            ]
          },
          "metadata": {},
          "execution_count": 5
        }
      ]
    },
    {
      "cell_type": "code",
      "source": [
        "rnn_predictions = rnn_model.predict(X_test)\n",
        "rnn_predictions = scaler.inverse_transform(rnn_predictions)"
      ],
      "metadata": {
        "colab": {
          "base_uri": "https://localhost:8080/"
        },
        "id": "fOAYD_JY-7Ij",
        "outputId": "626fc249-27e0-46eb-b342-d6ec87e9f8a2"
      },
      "execution_count": null,
      "outputs": [
        {
          "output_type": "stream",
          "name": "stdout",
          "text": [
            "20/20 [==============================] - 0s 4ms/step\n"
          ]
        }
      ]
    },
    {
      "cell_type": "code",
      "source": [
        "plt.figure(figsize=(12, 6))\n",
        "plt.plot(df.index[train_size + seq_length:], df['Close'][train_size + seq_length:], label='Real')\n",
        "plt.plot(df.index[train_size + seq_length:], rnn_predictions, label='Predicted')\n",
        "plt.xlabel('Date')\n",
        "plt.ylabel('Closing Price')\n",
        "plt.title('Stock Price Prediction')\n",
        "plt.legend()\n",
        "plt.show()"
      ],
      "metadata": {
        "colab": {
          "base_uri": "https://localhost:8080/",
          "height": 564
        },
        "id": "NsNOW9FU_QdG",
        "outputId": "7e672887-011b-427e-e3c4-553d4207ef5b"
      },
      "execution_count": null,
      "outputs": [
        {
          "output_type": "display_data",
          "data": {
            "text/plain": [
              "<Figure size 1200x600 with 1 Axes>"
            ],
            "image/png": "[encoded data removed]"
          },
          "metadata": {}
        }
      ]
    },
    {
      "cell_type": "code",
      "source": [
        "from sklearn.metrics import mean_squared_error\n",
        "\n",
        "rnn_predictions = rnn_predictions.reshape(-1)\n",
        "y_test = y_test.reshape(-1)\n",
        "\n",
        "rnn_predictions = scaler.inverse_transform([rnn_predictions])\n",
        "y_test = scaler.inverse_transform([y_test])\n",
        "\n",
        "rmse = np.sqrt(mean_squared_error(y_test[0], rnn_predictions[0]))\n",
        "\n",
        "print(\"Root Mean Squared Error for the RNN Model:\", rmse)\n"
      ],
      "metadata": {
        "colab": {
          "base_uri": "https://localhost:8080/"
        },
        "id": "VlS0rpXu_TFc",
        "outputId": "64bf6804-b0b9-4df3-8b2d-4e72dc57421d"
      },
      "execution_count": null,
      "outputs": [
        {
          "output_type": "stream",
          "name": "stdout",
          "text": [
            "Root Mean Squared Error for the RNN Model: 193015.87281723294\n"
          ]
        }
      ]
    },
    {
      "cell_type": "markdown",
      "source": [
        "##LSTM"
      ],
      "metadata": {
        "id": "ktjxgL3BBE3H"
      }
    },
    {
      "cell_type": "code",
      "source": [
        "lstm_model = Sequential()\n",
        "lstm_model.add(LSTM(50, activation='relu', input_shape=(seq_length, 1)))\n",
        "lstm_model.add(Dense(1))\n",
        "lstm_model.compile(optimizer='adam', loss='mean_squared_error')\n",
        "lstm_model.fit(X_train, y_train, epochs=50, batch_size=32)\n"
      ],
      "metadata": {
        "colab": {
          "base_uri": "https://localhost:8080/"
        },
        "id": "7ecaLW0B_au-",
        "outputId": "b03893a8-5e53-4529-de7f-d2ba7d68ad7b"
      },
      "execution_count": null,
      "outputs": [
        {
          "output_type": "stream",
          "name": "stderr",
          "text": [
            "WARNING:tensorflow:Layer lstm will not use cuDNN kernels since it doesn't meet the criteria. It will use a generic GPU kernel as fallback when running on GPU.\n"
          ]
        },
        {
          "output_type": "stream",
          "name": "stdout",
          "text": [
            "Epoch 1/50\n",
            "80/80 [==============================] - 6s 51ms/step - loss: 0.0331\n",
            "Epoch 2/50\n",
            "80/80 [==============================] - 3s 43ms/step - loss: 0.0013\n",
            "Epoch 3/50\n",
            "80/80 [==============================] - 3s 43ms/step - loss: 0.0010\n",
            "Epoch 4/50\n",
            "80/80 [==============================] - 5s 59ms/step - loss: 8.5437e-04\n",
            "Epoch 5/50\n",
            "80/80 [==============================] - 4s 44ms/step - loss: 7.5511e-04\n",
            "Epoch 6/50\n",
            "80/80 [==============================] - 4s 44ms/step - loss: 7.0031e-04\n",
            "Epoch 7/50\n",
            "80/80 [==============================] - 5s 59ms/step - loss: 6.1844e-04\n",
            "Epoch 8/50\n",
            "80/80 [==============================] - 4s 44ms/step - loss: 5.9427e-04\n",
            "Epoch 9/50\n",
            "80/80 [==============================] - 4s 55ms/step - loss: 6.0352e-04\n",
            "Epoch 10/50\n",
            "80/80 [==============================] - 5s 62ms/step - loss: 5.3575e-04\n",
            "Epoch 11/50\n",
            "80/80 [==============================] - 4s 46ms/step - loss: 4.7437e-04\n",
            "Epoch 12/50\n",
            "80/80 [==============================] - 4s 45ms/step - loss: 4.5146e-04\n",
            "Epoch 13/50\n",
            "80/80 [==============================] - 5s 62ms/step - loss: 4.2837e-04\n",
            "Epoch 14/50\n",
            "80/80 [==============================] - 4s 44ms/step - loss: 4.0749e-04\n",
            "Epoch 15/50\n",
            "80/80 [==============================] - 4s 53ms/step - loss: 3.9486e-04\n",
            "Epoch 16/50\n",
            "80/80 [==============================] - 5s 65ms/step - loss: 4.2943e-04\n",
            "Epoch 17/50\n",
            "80/80 [==============================] - 4s 45ms/step - loss: 3.7881e-04\n",
            "Epoch 18/50\n",
            "80/80 [==============================] - 4s 47ms/step - loss: 3.8659e-04\n",
            "Epoch 19/50\n",
            "80/80 [==============================] - 5s 60ms/step - loss: 3.7065e-04\n",
            "Epoch 20/50\n",
            "80/80 [==============================] - 3s 43ms/step - loss: 3.5594e-04\n",
            "Epoch 21/50\n",
            "80/80 [==============================] - 4s 45ms/step - loss: 3.5386e-04\n",
            "Epoch 22/50\n",
            "80/80 [==============================] - 5s 59ms/step - loss: 3.4743e-04\n",
            "Epoch 23/50\n",
            "80/80 [==============================] - 3s 44ms/step - loss: 3.5783e-04\n",
            "Epoch 24/50\n",
            "80/80 [==============================] - 3s 43ms/step - loss: 3.2748e-04\n",
            "Epoch 25/50\n",
            "80/80 [==============================] - 5s 59ms/step - loss: 3.0820e-04\n",
            "Epoch 26/50\n",
            "80/80 [==============================] - 3s 43ms/step - loss: 3.4086e-04\n",
            "Epoch 27/50\n",
            "80/80 [==============================] - 4s 44ms/step - loss: 3.1088e-04\n",
            "Epoch 28/50\n",
            "80/80 [==============================] - 5s 57ms/step - loss: 3.1085e-04\n",
            "Epoch 29/50\n",
            "80/80 [==============================] - 4s 44ms/step - loss: 2.9753e-04\n",
            "Epoch 30/50\n",
            "80/80 [==============================] - 3s 44ms/step - loss: 2.9981e-04\n",
            "Epoch 31/50\n",
            "80/80 [==============================] - 4s 54ms/step - loss: 2.9663e-04\n",
            "Epoch 32/50\n",
            "80/80 [==============================] - 4s 49ms/step - loss: 2.9699e-04\n",
            "Epoch 33/50\n",
            "80/80 [==============================] - 4s 47ms/step - loss: 2.8269e-04\n",
            "Epoch 34/50\n",
            "80/80 [==============================] - 4s 50ms/step - loss: 3.0753e-04\n",
            "Epoch 35/50\n",
            "80/80 [==============================] - 4s 55ms/step - loss: 3.0226e-04\n",
            "Epoch 36/50\n",
            "80/80 [==============================] - 4s 44ms/step - loss: 2.8052e-04\n",
            "Epoch 37/50\n",
            "80/80 [==============================] - 3s 43ms/step - loss: 2.7192e-04\n",
            "Epoch 38/50\n",
            "80/80 [==============================] - 5s 59ms/step - loss: 2.9427e-04\n",
            "Epoch 39/50\n",
            "80/80 [==============================] - 4s 44ms/step - loss: 2.7637e-04\n",
            "Epoch 40/50\n",
            "80/80 [==============================] - 4s 44ms/step - loss: 2.8190e-04\n",
            "Epoch 41/50\n",
            "80/80 [==============================] - 5s 60ms/step - loss: 2.9129e-04\n",
            "Epoch 42/50\n",
            "80/80 [==============================] - 3s 43ms/step - loss: 2.6589e-04\n",
            "Epoch 43/50\n",
            "80/80 [==============================] - 4s 44ms/step - loss: 2.6243e-04\n",
            "Epoch 44/50\n",
            "80/80 [==============================] - 5s 59ms/step - loss: 2.5762e-04\n",
            "Epoch 45/50\n",
            "80/80 [==============================] - 3s 43ms/step - loss: 2.8189e-04\n",
            "Epoch 46/50\n",
            "80/80 [==============================] - 4s 44ms/step - loss: 2.7610e-04\n",
            "Epoch 47/50\n",
            "80/80 [==============================] - 5s 59ms/step - loss: 2.5304e-04\n",
            "Epoch 48/50\n",
            "80/80 [==============================] - 3s 43ms/step - loss: 2.5385e-04\n",
            "Epoch 49/50\n",
            "80/80 [==============================] - 3s 44ms/step - loss: 2.8347e-04\n",
            "Epoch 50/50\n",
            "80/80 [==============================] - 5s 57ms/step - loss: 2.6544e-04\n"
          ]
        },
        {
          "output_type": "execute_result",
          "data": {
            "text/plain": [
              "<keras.callbacks.History at 0x7fa6f0f8a6b0>"
            ]
          },
          "metadata": {},
          "execution_count": 11
        }
      ]
    },
    {
      "cell_type": "code",
      "source": [
        "lstm_predictions = lstm_model.predict(X_test)\n",
        "lstm_predictions = scaler.inverse_transform(lstm_predictions)\n",
        "lstm_predictions = lstm_predictions.reshape(-1,1)  # Reshape predictions\n",
        "\n",
        "y_test = scaler.inverse_transform(y_test)\n",
        "y_test = y_test.reshape(-1,1)  # Reshape ground truth\n",
        "\n",
        "rmse = np.sqrt(mean_squared_error(y_test, lstm_predictions))\n",
        "print(\"Root Mean Squared Error (RMSE):\", rmse)\n"
      ],
      "metadata": {
        "colab": {
          "base_uri": "https://localhost:8080/"
        },
        "id": "EWaRhWj5DftO",
        "outputId": "386d2ffe-29fc-4374-d002-5146b64495ca"
      },
      "execution_count": null,
      "outputs": [
        {
          "output_type": "stream",
          "name": "stdout",
          "text": [
            "20/20 [==============================] - 0s 9ms/step\n",
            "Root Mean Squared Error (RMSE): 194761.4644590387\n"
          ]
        }
      ]
    },
    {
      "cell_type": "code",
      "source": [],
      "metadata": {
        "id": "2Y4pm1B0Dhgj"
      },
      "execution_count": null,
      "outputs": []
    }
  ]
}